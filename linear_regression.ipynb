{
  "nbformat": 4,
  "nbformat_minor": 0,
  "metadata": {
    "colab": {
      "name": "linear_regression.ipynb",
      "provenance": [],
      "collapsed_sections": [],
      "authorship_tag": "ABX9TyOM+xzK+HKcMG1Y1lGTCtPC",
      "include_colab_link": true
    },
    "kernelspec": {
      "name": "python3",
      "display_name": "Python 3"
    }
  },
  "cells": [
    {
      "cell_type": "markdown",
      "metadata": {
        "id": "view-in-github",
        "colab_type": "text"
      },
      "source": [
        "<a href=\"https://colab.research.google.com/github/soorichu/colab/blob/master/linear_regression.ipynb\" target=\"_parent\"><img src=\"https://colab.research.google.com/assets/colab-badge.svg\" alt=\"Open In Colab\"/></a>"
      ]
    },
    {
      "cell_type": "markdown",
      "metadata": {
        "id": "bfVBE4v6cKD1",
        "colab_type": "text"
      },
      "source": [
        "**03-1 선형회귀법**"
      ]
    },
    {
      "cell_type": "code",
      "metadata": {
        "id": "DZo8eXAYSdcz",
        "colab_type": "code",
        "colab": {}
      },
      "source": [
        "from sklearn.datasets import load_diabetes\n",
        "diabetes = load_diabetes()"
      ],
      "execution_count": 0,
      "outputs": []
    },
    {
      "cell_type": "code",
      "metadata": {
        "id": "4-0i1SHialay",
        "colab_type": "code",
        "outputId": "2ee3559e-270a-41bf-ae92-bd350ac152f7",
        "colab": {
          "base_uri": "https://localhost:8080/",
          "height": 34
        }
      },
      "source": [
        "print(diabetes.data.shape, diabetes.target.shape)"
      ],
      "execution_count": 0,
      "outputs": [
        {
          "output_type": "stream",
          "text": [
            "(442, 10) (442,)\n"
          ],
          "name": "stdout"
        }
      ]
    },
    {
      "cell_type": "code",
      "metadata": {
        "id": "9YjgBBSsbE9w",
        "colab_type": "code",
        "outputId": "cd3f5618-95b1-45de-a5b4-930cf1df4df8",
        "colab": {
          "base_uri": "https://localhost:8080/",
          "height": 938
        }
      },
      "source": [
        "print(diabetes)"
      ],
      "execution_count": 0,
      "outputs": [
        {
          "output_type": "stream",
          "text": [
            "{'data': array([[ 0.03807591,  0.05068012,  0.06169621, ..., -0.00259226,\n",
            "         0.01990842, -0.01764613],\n",
            "       [-0.00188202, -0.04464164, -0.05147406, ..., -0.03949338,\n",
            "        -0.06832974, -0.09220405],\n",
            "       [ 0.08529891,  0.05068012,  0.04445121, ..., -0.00259226,\n",
            "         0.00286377, -0.02593034],\n",
            "       ...,\n",
            "       [ 0.04170844,  0.05068012, -0.01590626, ..., -0.01107952,\n",
            "        -0.04687948,  0.01549073],\n",
            "       [-0.04547248, -0.04464164,  0.03906215, ...,  0.02655962,\n",
            "         0.04452837, -0.02593034],\n",
            "       [-0.04547248, -0.04464164, -0.0730303 , ..., -0.03949338,\n",
            "        -0.00421986,  0.00306441]]), 'target': array([151.,  75., 141., 206., 135.,  97., 138.,  63., 110., 310., 101.,\n",
            "        69., 179., 185., 118., 171., 166., 144.,  97., 168.,  68.,  49.,\n",
            "        68., 245., 184., 202., 137.,  85., 131., 283., 129.,  59., 341.,\n",
            "        87.,  65., 102., 265., 276., 252.,  90., 100.,  55.,  61.,  92.,\n",
            "       259.,  53., 190., 142.,  75., 142., 155., 225.,  59., 104., 182.,\n",
            "       128.,  52.,  37., 170., 170.,  61., 144.,  52., 128.,  71., 163.,\n",
            "       150.,  97., 160., 178.,  48., 270., 202., 111.,  85.,  42., 170.,\n",
            "       200., 252., 113., 143.,  51.,  52., 210.,  65., 141.,  55., 134.,\n",
            "        42., 111.,  98., 164.,  48.,  96.,  90., 162., 150., 279.,  92.,\n",
            "        83., 128., 102., 302., 198.,  95.,  53., 134., 144., 232.,  81.,\n",
            "       104.,  59., 246., 297., 258., 229., 275., 281., 179., 200., 200.,\n",
            "       173., 180.,  84., 121., 161.,  99., 109., 115., 268., 274., 158.,\n",
            "       107.,  83., 103., 272.,  85., 280., 336., 281., 118., 317., 235.,\n",
            "        60., 174., 259., 178., 128.,  96., 126., 288.,  88., 292.,  71.,\n",
            "       197., 186.,  25.,  84.,  96., 195.,  53., 217., 172., 131., 214.,\n",
            "        59.,  70., 220., 268., 152.,  47.,  74., 295., 101., 151., 127.,\n",
            "       237., 225.,  81., 151., 107.,  64., 138., 185., 265., 101., 137.,\n",
            "       143., 141.,  79., 292., 178.,  91., 116.,  86., 122.,  72., 129.,\n",
            "       142.,  90., 158.,  39., 196., 222., 277.,  99., 196., 202., 155.,\n",
            "        77., 191.,  70.,  73.,  49.,  65., 263., 248., 296., 214., 185.,\n",
            "        78.,  93., 252., 150.,  77., 208.,  77., 108., 160.,  53., 220.,\n",
            "       154., 259.,  90., 246., 124.,  67.,  72., 257., 262., 275., 177.,\n",
            "        71.,  47., 187., 125.,  78.,  51., 258., 215., 303., 243.,  91.,\n",
            "       150., 310., 153., 346.,  63.,  89.,  50.,  39., 103., 308., 116.,\n",
            "       145.,  74.,  45., 115., 264.,  87., 202., 127., 182., 241.,  66.,\n",
            "        94., 283.,  64., 102., 200., 265.,  94., 230., 181., 156., 233.,\n",
            "        60., 219.,  80.,  68., 332., 248.,  84., 200.,  55.,  85.,  89.,\n",
            "        31., 129.,  83., 275.,  65., 198., 236., 253., 124.,  44., 172.,\n",
            "       114., 142., 109., 180., 144., 163., 147.,  97., 220., 190., 109.,\n",
            "       191., 122., 230., 242., 248., 249., 192., 131., 237.,  78., 135.,\n",
            "       244., 199., 270., 164.,  72.,  96., 306.,  91., 214.,  95., 216.,\n",
            "       263., 178., 113., 200., 139., 139.,  88., 148.,  88., 243.,  71.,\n",
            "        77., 109., 272.,  60.,  54., 221.,  90., 311., 281., 182., 321.,\n",
            "        58., 262., 206., 233., 242., 123., 167.,  63., 197.,  71., 168.,\n",
            "       140., 217., 121., 235., 245.,  40.,  52., 104., 132.,  88.,  69.,\n",
            "       219.,  72., 201., 110.,  51., 277.,  63., 118.,  69., 273., 258.,\n",
            "        43., 198., 242., 232., 175.,  93., 168., 275., 293., 281.,  72.,\n",
            "       140., 189., 181., 209., 136., 261., 113., 131., 174., 257.,  55.,\n",
            "        84.,  42., 146., 212., 233.,  91., 111., 152., 120.,  67., 310.,\n",
            "        94., 183.,  66., 173.,  72.,  49.,  64.,  48., 178., 104., 132.,\n",
            "       220.,  57.]), 'DESCR': '.. _diabetes_dataset:\\n\\nDiabetes dataset\\n----------------\\n\\nTen baseline variables, age, sex, body mass index, average blood\\npressure, and six blood serum measurements were obtained for each of n =\\n442 diabetes patients, as well as the response of interest, a\\nquantitative measure of disease progression one year after baseline.\\n\\n**Data Set Characteristics:**\\n\\n  :Number of Instances: 442\\n\\n  :Number of Attributes: First 10 columns are numeric predictive values\\n\\n  :Target: Column 11 is a quantitative measure of disease progression one year after baseline\\n\\n  :Attribute Information:\\n      - Age\\n      - Sex\\n      - Body mass index\\n      - Average blood pressure\\n      - S1\\n      - S2\\n      - S3\\n      - S4\\n      - S5\\n      - S6\\n\\nNote: Each of these 10 feature variables have been mean centered and scaled by the standard deviation times `n_samples` (i.e. the sum of squares of each column totals 1).\\n\\nSource URL:\\nhttps://www4.stat.ncsu.edu/~boos/var.select/diabetes.html\\n\\nFor more information see:\\nBradley Efron, Trevor Hastie, Iain Johnstone and Robert Tibshirani (2004) \"Least Angle Regression,\" Annals of Statistics (with discussion), 407-499.\\n(https://web.stanford.edu/~hastie/Papers/LARS/LeastAngle_2002.pdf)', 'feature_names': ['age', 'sex', 'bmi', 'bp', 's1', 's2', 's3', 's4', 's5', 's6'], 'data_filename': '/usr/local/lib/python3.6/dist-packages/sklearn/datasets/data/diabetes_data.csv.gz', 'target_filename': '/usr/local/lib/python3.6/dist-packages/sklearn/datasets/data/diabetes_target.csv.gz'}\n"
          ],
          "name": "stdout"
        }
      ]
    },
    {
      "cell_type": "code",
      "metadata": {
        "id": "lnK-nhXXbO9l",
        "colab_type": "code",
        "outputId": "2b8e3c9b-c7da-451e-d482-9d7311219cd0",
        "colab": {
          "base_uri": "https://localhost:8080/",
          "height": 34
        }
      },
      "source": [
        "diabetes.target[:3]"
      ],
      "execution_count": 0,
      "outputs": [
        {
          "output_type": "execute_result",
          "data": {
            "text/plain": [
              "array([151.,  75., 141.])"
            ]
          },
          "metadata": {
            "tags": []
          },
          "execution_count": 5
        }
      ]
    },
    {
      "cell_type": "code",
      "metadata": {
        "id": "uKz88ghUbdGX",
        "colab_type": "code",
        "outputId": "ec9e244a-6fbe-485d-a626-022e84d0f935",
        "colab": {
          "base_uri": "https://localhost:8080/",
          "height": 119
        }
      },
      "source": [
        "diabetes.data[0:3]"
      ],
      "execution_count": 0,
      "outputs": [
        {
          "output_type": "execute_result",
          "data": {
            "text/plain": [
              "array([[ 0.03807591,  0.05068012,  0.06169621,  0.02187235, -0.0442235 ,\n",
              "        -0.03482076, -0.04340085, -0.00259226,  0.01990842, -0.01764613],\n",
              "       [-0.00188202, -0.04464164, -0.05147406, -0.02632783, -0.00844872,\n",
              "        -0.01916334,  0.07441156, -0.03949338, -0.06832974, -0.09220405],\n",
              "       [ 0.08529891,  0.05068012,  0.04445121, -0.00567061, -0.04559945,\n",
              "        -0.03419447, -0.03235593, -0.00259226,  0.00286377, -0.02593034]])"
            ]
          },
          "metadata": {
            "tags": []
          },
          "execution_count": 6
        }
      ]
    },
    {
      "cell_type": "code",
      "metadata": {
        "id": "GNw7QFZ7blOs",
        "colab_type": "code",
        "outputId": "4af807ef-fe39-4625-bb60-fd95db740254",
        "colab": {
          "base_uri": "https://localhost:8080/",
          "height": 265
        }
      },
      "source": [
        "import matplotlib.pyplot as plt\n",
        "plt.scatter(diabetes.data[:,2], diabetes.target)\n",
        "plt.show()"
      ],
      "execution_count": 0,
      "outputs": [
        {
          "output_type": "display_data",
          "data": {
            "image/png": "[encoded data removed]",
            "text/plain": [
              "<Figure size 432x288 with 1 Axes>"
            ]
          },
          "metadata": {
            "tags": []
          }
        }
      ]
    },
    {
      "cell_type": "code",
      "metadata": {
        "id": "HZ-lod4MbvUe",
        "colab_type": "code",
        "colab": {}
      },
      "source": [
        "x = diabetes.data[:,2]\n",
        "y = diabetes.target"
      ],
      "execution_count": 0,
      "outputs": []
    },
    {
      "cell_type": "code",
      "metadata": {
        "id": "dl5Ky7o0b4U3",
        "colab_type": "code",
        "colab": {}
      },
      "source": [
        "w = 1.0\n",
        "b = 1.0"
      ],
      "execution_count": 0,
      "outputs": []
    },
    {
      "cell_type": "code",
      "metadata": {
        "id": "x5MoIHwLccf0",
        "colab_type": "code",
        "outputId": "cdc63c50-fee2-4d99-caac-92d652a95a6e",
        "colab": {
          "base_uri": "https://localhost:8080/",
          "height": 34
        }
      },
      "source": [
        "y_hat = x[0] * w +b\n",
        "print(y_hat)"
      ],
      "execution_count": 0,
      "outputs": [
        {
          "output_type": "stream",
          "text": [
            "1.0616962065186886\n"
          ],
          "name": "stdout"
        }
      ]
    },
    {
      "cell_type": "code",
      "metadata": {
        "id": "ix2YDwZBcodf",
        "colab_type": "code",
        "colab": {}
      },
      "source": [
        "y = diabetes.target"
      ],
      "execution_count": 0,
      "outputs": []
    },
    {
      "cell_type": "code",
      "metadata": {
        "id": "sUupFQLVcrr9",
        "colab_type": "code",
        "outputId": "429a9cc6-8c8e-46a6-a17e-49da45cda202",
        "colab": {
          "base_uri": "https://localhost:8080/",
          "height": 34
        }
      },
      "source": [
        "print(y[0])"
      ],
      "execution_count": 0,
      "outputs": [
        {
          "output_type": "stream",
          "text": [
            "151.0\n"
          ],
          "name": "stdout"
        }
      ]
    },
    {
      "cell_type": "code",
      "metadata": {
        "id": "KPbcohnZcu0k",
        "colab_type": "code",
        "outputId": "d865ee0c-6421-4b8e-d9c0-a3589496bba1",
        "colab": {
          "base_uri": "https://localhost:8080/",
          "height": 34
        }
      },
      "source": [
        "for i in range(len(y)):\n",
        "  bi = (y[i]-x[i]*w)\n",
        "  while bi < y[i]-x[i]*w + 10:\n",
        "    if abs(b - (y[i]-x[i]*w)) > abs(bi - (y[i]-x[i]*w)):\n",
        "      b = bi\n",
        "    bi += 1\n",
        "  wi = (-0.1+y[i]-b)/x[i]\n",
        "  while wi<(0.1+y[i]-b)/x[i]:\n",
        "    if (y[i] - (x[i]*w) - b)**2 > (y[i] - (x[i]*wi) - b)**2:\n",
        "      w = wi\n",
        "    wi += 0.01\n",
        "\n",
        "print(w, b)"
      ],
      "execution_count": 0,
      "outputs": [
        {
          "output_type": "stream",
          "text": [
            "-1461.1471451610369 -49.708018324349396\n"
          ],
          "name": "stdout"
        }
      ]
    },
    {
      "cell_type": "code",
      "metadata": {
        "id": "jxMhNNXYdBGJ",
        "colab_type": "code",
        "outputId": "1d9b5c74-0cf8-4159-95bd-b39ef2ea8347",
        "colab": {
          "base_uri": "https://localhost:8080/",
          "height": 265
        }
      },
      "source": [
        "plt.scatter(x, y)\n",
        "pt1 = (-0.1, -0.1*w +b)\n",
        "pt2 = (0.15, 0.15*w +b)\n",
        "plt.plot([pt1[0], pt2[0]], [pt1[1], pt2[1]])\n",
        "plt.show()"
      ],
      "execution_count": 0,
      "outputs": [
        {
          "output_type": "display_data",
          "data": {
            "image/png": "[encoded data removed]",
            "text/plain": [
              "<Figure size 432x288 with 1 Axes>"
            ]
          },
          "metadata": {
            "tags": []
          }
        }
      ]
    },
    {
      "cell_type": "code",
      "metadata": {
        "id": "vU9h6zpjhUC2",
        "colab_type": "code",
        "outputId": "46af4d3b-63f4-4e2d-c8fe-9bc451e04596",
        "colab": {
          "base_uri": "https://localhost:8080/",
          "height": 1000
        }
      },
      "source": [
        "w = 1; b = 1\n",
        "for x_i, y_i in zip(x, y):\n",
        "  y_hat = x_i * x + b\n",
        "  err = y_i - y_hat\n",
        "  w_rate = x_i\n",
        "  w = w + w_rate * err\n",
        "  b = b+1 *err\n",
        "print(w, b)"
      ],
      "execution_count": 0,
      "outputs": [
        {
          "output_type": "stream",
          "text": [
            "[939.82321518 939.93825548 939.84074513 939.89771747 939.92291678\n",
            " 939.92729927 939.933873   939.88785688 939.82321518 939.84622324\n",
            " 939.97112414 939.86813568 939.91524742 939.88785688 939.91196056\n",
            " 939.9042912  939.84293638 939.87361379 939.89662185 939.9042912\n",
            " 939.94373359 939.90867369 939.89004812 939.82431081 939.84951011\n",
            " 939.8988131  939.96455041 939.82540643 939.90757807 939.89223936\n",
            " 939.84074513 939.95249857 939.75857349 939.93715986 939.95030733\n",
            " 939.91743867 939.86265757 939.87470941 939.81335459 939.87142255\n",
            " 939.89443061 939.95468981 939.89662185 939.90976931 939.81664145\n",
            " 939.92182116 939.89771747 939.96016792 939.92839489 939.87142255\n",
            " 939.89333499 939.8692313  939.89552623 939.90209996 939.86046633\n",
            " 939.93606424 939.844032   939.95030733 939.95140295 939.91196056\n",
            " 939.89004812 939.88128314 939.89333499 939.9240124  939.91196056\n",
            " 939.91086494 939.9042912  939.90100434 939.91634305 939.93277737\n",
            " 939.95688106 939.85170135 939.89004812 939.90648245 939.88347439\n",
            " 939.91743867 939.85717946 939.92291678 939.94482922 939.9240124\n",
            " 939.87361379 939.90867369 939.92182116 939.87580504 939.92620364\n",
            " 939.81335459 939.96235917 939.89223936 939.92729927 939.93496862\n",
            " 939.91196056 939.83307578 939.88128314 939.95140295 939.90319558\n",
            " 939.94482922 939.87580504 939.79582464 939.89114374 939.95140295\n",
            " 939.86813568 939.93168175 939.85717946 939.844032   939.81992832\n",
            " 939.91853429 939.96345479 939.83526702 939.83964951 939.89552623\n",
            " 939.91853429 939.88128314 939.86484882 939.87142255 939.7739122\n",
            " 939.88457001 939.82650205 939.90757807 939.89662185 939.933873\n",
            " 939.88128314 939.86813568 939.80349399 939.85060573 939.86156195\n",
            " 939.89443061 939.94811608 939.88785688 939.9492117  939.8692313\n",
            " 939.78815528 939.95688106 939.90757807 939.94044673 939.84184076\n",
            " 939.82869329 939.9689329  939.83526702 939.77281658 939.82321518\n",
            " 939.87142255 939.83745827 939.87361379 939.88018752 939.83855389\n",
            " 939.75528662 939.82540643 939.79144215 939.87032693 939.89114374\n",
            " 939.81445021 939.89004812 939.88676125 939.93058613 939.86484882\n",
            " 939.82431081 939.89662185 939.91962991 939.95249857 939.84184076\n",
            " 939.9492117  939.82102394 939.85498822 939.81225896 939.90538683\n",
            " 939.95359419 939.94702046 939.81554583 939.82540643 939.91305618\n",
            " 939.90648245 939.93277737 939.81335459 939.96674165 939.87580504\n",
            " 939.92510802 939.86594444 939.85827508 939.89443061 939.90209996\n",
            " 939.88128314 939.92949051 939.88018752 939.92182116 939.86156195\n",
            " 939.9042912  939.84293638 939.94154235 939.8889525  939.95359419\n",
            " 939.8988131  939.92839489 939.91743867 939.89114374 939.94592484\n",
            " 939.86046633 939.93277737 939.88237877 939.83088454 939.93168175\n",
            " 939.94482922 939.94263797 939.88457001 939.85498822 939.8790919\n",
            " 939.83855389 939.85937071 939.83964951 939.84512762 939.9042912\n",
            " 939.87142255 939.84841449 939.88237877 939.95797668 939.91962991\n",
            " 939.79034653 939.84951011 939.8538926  939.95249857 939.92839489\n",
            " 939.92620364 939.92510802 939.91196056 939.90976931 939.95359419\n",
            " 939.85279698 939.93277737 939.91634305 939.8988131  939.90209996\n",
            " 939.81335459 939.91743867 939.88566563 939.84841449 939.84622324\n",
            " 939.90100434 939.8790919  939.95578543 939.89552623 939.86594444\n",
            " 939.81006772 939.89443061 939.90976931 939.93277737 939.83088454\n",
            " 939.92182116 939.91853429 939.9689329  939.83745827 939.82431081\n",
            " 939.82869329 939.78596404 939.82540643 939.85170135 939.82869329\n",
            " 939.95249857 939.72241797 939.94263797 939.91086494 939.92291678\n",
            " 939.89443061 939.92839489 939.75638225 939.96455041 939.85717946\n",
            " 939.91196056 939.9492117  939.88676125 939.79582464 939.91853429\n",
            " 939.85498822 939.87690066 939.8790919  939.90648245 939.91086494\n",
            " 939.89771747 939.85937071 939.94592484 939.92291678 939.91086494\n",
            " 939.86704006 939.97769787 939.89114374 939.93935111 939.90867369\n",
            " 939.90648245 939.94154235 939.89223936 939.90319558 939.82978891\n",
            " 939.80787648 939.86704006 939.90867369 939.79144215 939.91743867\n",
            " 939.84622324 939.94811608 939.89443061 939.9240124  939.89990872\n",
            " 939.81116334 939.91086494 939.85170135 939.85060573 939.92510802\n",
            " 939.92620364 939.88785688 939.91743867 939.93277737 939.88457001\n",
            " 939.81992832 939.84512762 939.90976931 939.83198016 939.84512762\n",
            " 939.90648245 939.87142255 939.92072553 939.8790919  939.88128314\n",
            " 939.85498822 939.83307578 939.82321518 939.89333499 939.88018752\n",
            " 939.83088454 939.89443061 939.76952971 939.81773707 939.94263797\n",
            " 939.85498822 939.91196056 939.77939031 939.89223936 939.933873\n",
            " 939.93496862 939.7991115  939.8988131  939.91962991 939.89333499\n",
            " 939.89990872 939.82540643 939.86375319 939.86704006 939.89771747\n",
            " 939.8889525  939.86813568 939.91634305 939.90648245 939.94482922\n",
            " 939.82431081 939.92729927 939.9590723  939.94263797 939.83964951\n",
            " 939.89552623 939.91962991 939.83526702 939.97221976 939.88018752\n",
            " 939.86484882 939.89333499 939.77939031 939.91086494 939.89223936\n",
            " 939.92510802 939.74652165 939.71255737 939.88347439 939.84731887\n",
            " 939.94482922 939.89552623 939.90976931 939.89662185 939.92072553\n",
            " 939.8889525  939.81664145 939.87580504 939.88347439 939.92510802\n",
            " 939.85937071 939.97660225 939.82431081 939.91524742 939.91634305\n",
            " 939.90538683 939.92729927 939.87032693 939.91086494 939.88457001\n",
            " 939.81554583 939.95688106 939.91634305 939.93277737 939.86704006\n",
            " 939.88457001 939.91743867 939.89004812 939.87032693 939.86265757\n",
            " 939.83964951 939.93168175 939.91962991 939.78705966 939.83088454\n",
            " 939.76076473 939.96783728 939.79144215 939.93715986 939.89771747\n",
            " 939.9141518  939.82650205 939.7991115  939.88676125 939.8790919\n",
            " 939.87690066 939.80458961 939.81335459 939.91086494 939.94154235\n",
            " 939.92291678 939.8692313  939.80678085 939.92620364 939.87470941\n",
            " 939.92729927 939.92072553 939.88018752 939.79582464 939.91962991\n",
            " 939.94373359 939.91743867 939.82978891 939.94702046 939.88457001\n",
            " 939.90976931 939.96126354 939.86594444 939.90209996 939.90209996\n",
            " 939.84622324 939.96016792] [57.00450569 56.99624083 57.00324629 56.99915321 56.99734281 56.99702796\n",
            " 56.99655569 56.99986163 57.00450569 57.00285272 56.99387945 57.00127846\n",
            " 56.99789381 56.99986163 56.99812994 56.99868093 57.00308886 57.0008849\n",
            " 56.99923193 56.99868093 56.99584727 56.99836608 56.9997042  57.00442698\n",
            " 57.00261658 56.9990745  56.99435172 57.00434827 56.9984448  56.99954678\n",
            " 57.00324629 56.99521757 57.00914976 56.99631955 56.99537499 56.99773638\n",
            " 57.00167203 57.00080618 57.00521411 57.00104232 56.99938935 56.99506014\n",
            " 56.99923193 56.99828737 57.00497797 56.99742153 56.99915321 56.99466657\n",
            " 56.99694925 57.00104232 56.99946806 57.00119975 56.99931064 56.99883836\n",
            " 57.00182945 56.99639826 57.00301015 56.99537499 56.99529628 56.99812994\n",
            " 56.9997042  57.00033391 56.99946806 56.9972641  56.99812994 56.99820866\n",
            " 56.99868093 56.99891707 56.99781509 56.9966344  56.99490271 57.00245916\n",
            " 56.9997042  56.99852351 57.00017648 56.99773638 57.00206559 56.99734281\n",
            " 56.99576856 56.9972641  57.0008849  56.99836608 56.99742153 57.00072747\n",
            " 56.99710668 57.00521411 56.99450915 56.99954678 56.99702796 56.99647697\n",
            " 56.99812994 57.00379728 57.00033391 56.99529628 56.99875965 56.99576856\n",
            " 57.00072747 57.00647352 56.99962549 56.99529628 57.00127846 56.99671311\n",
            " 57.00206559 57.00301015 57.00474183 56.99765767 56.99443044 57.00363985\n",
            " 57.003325   56.99931064 56.99765767 57.00033391 57.0015146  57.00104232\n",
            " 57.00804778 57.00009777 57.00426955 56.9984448  56.99923193 56.99655569\n",
            " 57.00033391 57.00127846 57.00592253 57.00253787 57.00175074 56.99938935\n",
            " 56.99553242 56.99986163 56.9954537  57.00119975 57.00702451 56.99490271\n",
            " 56.9984448  56.99608341 57.00316757 57.00411213 56.99403687 57.00363985\n",
            " 57.00812649 57.00450569 57.00104232 57.00348242 57.0008849  57.00041262\n",
            " 57.00340371 57.0093859  57.00434827 57.00678837 57.00112104 56.99962549\n",
            " 57.0051354  56.9997042  56.99994034 56.99679182 57.0015146  57.00442698\n",
            " 56.99923193 56.99757895 56.99521757 57.00316757 56.9954537  57.00466312\n",
            " 57.00222302 57.00529282 56.99860222 56.99513885 56.99561113 57.00505668\n",
            " 57.00434827 56.99805123 56.99852351 56.9966344  57.00521411 56.9941943\n",
            " 57.00072747 56.99718539 57.00143589 57.00198688 56.99938935 56.99883836\n",
            " 57.00033391 56.99687054 57.00041262 56.99742153 57.00175074 56.99868093\n",
            " 57.00308886 56.99600469 56.99978292 56.99513885 56.9990745  56.99694925\n",
            " 56.99773638 56.99962549 56.99568984 57.00182945 56.9966344  57.00025519\n",
            " 57.0039547  56.99671311 56.99576856 56.99592598 57.00009777 57.00222302\n",
            " 57.00049133 57.00340371 57.00190817 57.003325   57.00293143 56.99868093\n",
            " 57.00104232 57.00269529 57.00025519 56.994824   56.99757895 57.00686708\n",
            " 57.00261658 57.00230173 56.99521757 56.99694925 56.99710668 56.99718539\n",
            " 56.99812994 56.99828737 56.99513885 57.00238044 56.9966344  56.99781509\n",
            " 56.9990745  56.99883836 57.00521411 56.99773638 57.00001905 57.00269529\n",
            " 57.00285272 56.99891707 57.00049133 56.99498143 56.99931064 57.00143589\n",
            " 57.00545025 56.99938935 56.99828737 56.9966344  57.0039547  56.99742153\n",
            " 56.99765767 56.99403687 57.00348242 57.00442698 57.00411213 57.00718193\n",
            " 57.00434827 57.00245916 57.00411213 56.99521757 57.01174728 56.99592598\n",
            " 56.99820866 56.99734281 56.99938935 56.99694925 57.00930718 56.99435172\n",
            " 57.00206559 56.99812994 56.9954537  56.99994034 57.00647352 56.99765767\n",
            " 57.00222302 57.00064876 57.00049133 56.99852351 56.99820866 56.99915321\n",
            " 57.00190817 56.99568984 56.99734281 56.99820866 57.00135717 56.99340717\n",
            " 56.99962549 56.99616212 56.99836608 56.99852351 56.99600469 56.99954678\n",
            " 56.99875965 57.00403341 57.00560767 57.00135717 56.99836608 57.00678837\n",
            " 56.99773638 57.00285272 56.99553242 56.99938935 56.9972641  56.99899579\n",
            " 57.00537154 56.99820866 57.00245916 57.00253787 56.99718539 56.99710668\n",
            " 56.99986163 56.99773638 56.9966344  57.00009777 57.00474183 57.00293143\n",
            " 56.99828737 57.00387599 57.00293143 56.99852351 57.00104232 56.99750024\n",
            " 57.00049133 57.00033391 57.00222302 57.00379728 57.00450569 56.99946806\n",
            " 57.00041262 57.0039547  56.99938935 57.00836263 57.00489926 56.99592598\n",
            " 57.00222302 56.99812994 57.00765421 56.99954678 56.99655569 56.99647697\n",
            " 57.00623738 56.9990745  56.99757895 56.99946806 56.99899579 57.00434827\n",
            " 57.00159331 57.00135717 56.99915321 56.99978292 57.00127846 56.99781509\n",
            " 56.99852351 56.99576856 57.00442698 56.99702796 56.99474529 56.99592598\n",
            " 57.003325   56.99931064 56.99757895 57.00363985 56.99380073 57.00041262\n",
            " 57.0015146  56.99946806 57.00765421 56.99820866 56.99954678 56.99718539\n",
            " 57.0100156  57.0124557  57.00017648 57.00277401 56.99576856 56.99931064\n",
            " 56.99828737 56.99923193 56.99750024 56.99978292 57.00497797 57.00072747\n",
            " 57.00017648 56.99718539 57.00190817 56.99348588 57.00442698 56.99789381\n",
            " 56.99781509 56.99860222 56.99702796 57.00112104 56.99820866 57.00009777\n",
            " 57.00505668 56.99490271 56.99781509 56.9966344  57.00135717 57.00009777\n",
            " 56.99773638 56.9997042  57.00112104 57.00167203 57.003325   56.99671311\n",
            " 56.99757895 57.00710322 57.0039547  57.00899233 56.99411558 57.00678837\n",
            " 56.99631955 56.99915321 56.99797252 57.00426955 57.00623738 56.99994034\n",
            " 57.00049133 57.00064876 57.00584381 57.00521411 56.99820866 56.99600469\n",
            " 56.99734281 57.00119975 57.00568639 56.99710668 57.00080618 56.99702796\n",
            " 56.99750024 57.00041262 57.00647352 56.99757895 56.99584727 56.99773638\n",
            " 57.00403341 56.99561113 57.00009777 56.99828737 56.99458786 57.00143589\n",
            " 56.99883836 56.99883836 57.00285272 56.99466657]\n"
          ],
          "name": "stdout"
        }
      ]
    },
    {
      "cell_type": "code",
      "metadata": {
        "id": "mAZVe-ZRkQ-k",
        "colab_type": "code",
        "outputId": "b2dbb488-a698-4568-f18a-375332fada2c",
        "colab": {
          "base_uri": "https://localhost:8080/",
          "height": 265
        }
      },
      "source": [
        "plt.scatter(x, y)\n",
        "pt1 = (-0.1, -0.1*w +b)\n",
        "pt2 = (0.15, 0.15*w +b)\n",
        "plt.plot([pt1[0], pt2[0]], [pt1[1], pt2[1]])\n",
        "plt.show()"
      ],
      "execution_count": 0,
      "outputs": [
        {
          "output_type": "display_data",
          "data": {
            "image/png": "[encoded data removed]",
            "text/plain": [
              "<Figure size 432x288 with 1 Axes>"
            ]
          },
          "metadata": {
            "tags": []
          }
        }
      ]
    },
    {
      "cell_type": "code",
      "metadata": {
        "id": "zmTA4NBEkgZJ",
        "colab_type": "code",
        "outputId": "31f1bba0-a65c-4b29-a2ae-51c39f9da6b6",
        "colab": {
          "base_uri": "https://localhost:8080/",
          "height": 34
        }
      },
      "source": [
        "print(y[0], x[0])"
      ],
      "execution_count": 0,
      "outputs": [
        {
          "output_type": "stream",
          "text": [
            "151.0 0.0616962065186885\n"
          ],
          "name": "stdout"
        }
      ]
    },
    {
      "cell_type": "code",
      "metadata": {
        "id": "VFnIsZNTlQ6o",
        "colab_type": "code",
        "outputId": "2e379738-44b1-4027-816f-38bc647396e0",
        "colab": {
          "base_uri": "https://localhost:8080/",
          "height": 1000
        }
      },
      "source": [
        "print(y)\n",
        "print(x)"
      ],
      "execution_count": 0,
      "outputs": [
        {
          "output_type": "stream",
          "text": [
            "[151.  75. 141. 206. 135.  97. 138.  63. 110. 310. 101.  69. 179. 185.\n",
            " 118. 171. 166. 144.  97. 168.  68.  49.  68. 245. 184. 202. 137.  85.\n",
            " 131. 283. 129.  59. 341.  87.  65. 102. 265. 276. 252.  90. 100.  55.\n",
            "  61.  92. 259.  53. 190. 142.  75. 142. 155. 225.  59. 104. 182. 128.\n",
            "  52.  37. 170. 170.  61. 144.  52. 128.  71. 163. 150.  97. 160. 178.\n",
            "  48. 270. 202. 111.  85.  42. 170. 200. 252. 113. 143.  51.  52. 210.\n",
            "  65. 141.  55. 134.  42. 111.  98. 164.  48.  96.  90. 162. 150. 279.\n",
            "  92.  83. 128. 102. 302. 198.  95.  53. 134. 144. 232.  81. 104.  59.\n",
            " 246. 297. 258. 229. 275. 281. 179. 200. 200. 173. 180.  84. 121. 161.\n",
            "  99. 109. 115. 268. 274. 158. 107.  83. 103. 272.  85. 280. 336. 281.\n",
            " 118. 317. 235.  60. 174. 259. 178. 128.  96. 126. 288.  88. 292.  71.\n",
            " 197. 186.  25.  84.  96. 195.  53. 217. 172. 131. 214.  59.  70. 220.\n",
            " 268. 152.  47.  74. 295. 101. 151. 127. 237. 225.  81. 151. 107.  64.\n",
            " 138. 185. 265. 101. 137. 143. 141.  79. 292. 178.  91. 116.  86. 122.\n",
            "  72. 129. 142.  90. 158.  39. 196. 222. 277.  99. 196. 202. 155.  77.\n",
            " 191.  70.  73.  49.  65. 263. 248. 296. 214. 185.  78.  93. 252. 150.\n",
            "  77. 208.  77. 108. 160.  53. 220. 154. 259.  90. 246. 124.  67.  72.\n",
            " 257. 262. 275. 177.  71.  47. 187. 125.  78.  51. 258. 215. 303. 243.\n",
            "  91. 150. 310. 153. 346.  63.  89.  50.  39. 103. 308. 116. 145.  74.\n",
            "  45. 115. 264.  87. 202. 127. 182. 241.  66.  94. 283.  64. 102. 200.\n",
            " 265.  94. 230. 181. 156. 233.  60. 219.  80.  68. 332. 248.  84. 200.\n",
            "  55.  85.  89.  31. 129.  83. 275.  65. 198. 236. 253. 124.  44. 172.\n",
            " 114. 142. 109. 180. 144. 163. 147.  97. 220. 190. 109. 191. 122. 230.\n",
            " 242. 248. 249. 192. 131. 237.  78. 135. 244. 199. 270. 164.  72.  96.\n",
            " 306.  91. 214.  95. 216. 263. 178. 113. 200. 139. 139.  88. 148.  88.\n",
            " 243.  71.  77. 109. 272.  60.  54. 221.  90. 311. 281. 182. 321.  58.\n",
            " 262. 206. 233. 242. 123. 167.  63. 197.  71. 168. 140. 217. 121. 235.\n",
            " 245.  40.  52. 104. 132.  88.  69. 219.  72. 201. 110.  51. 277.  63.\n",
            " 118.  69. 273. 258.  43. 198. 242. 232. 175.  93. 168. 275. 293. 281.\n",
            "  72. 140. 189. 181. 209. 136. 261. 113. 131. 174. 257.  55.  84.  42.\n",
            " 146. 212. 233.  91. 111. 152. 120.  67. 310.  94. 183.  66. 173.  72.\n",
            "  49.  64.  48. 178. 104. 132. 220.  57.]\n",
            "[ 0.06169621 -0.05147406  0.04445121 -0.01159501 -0.03638469 -0.04069594\n",
            " -0.04716281 -0.00189471  0.06169621  0.03906215 -0.08380842  0.01750591\n",
            " -0.02884001 -0.00189471 -0.02560657 -0.01806189  0.04229559  0.01211685\n",
            " -0.0105172  -0.01806189 -0.05686312 -0.02237314 -0.00405033  0.06061839\n",
            "  0.03582872 -0.01267283 -0.07734155  0.05954058 -0.02129532 -0.00620595\n",
            "  0.04445121 -0.06548562  0.12528712 -0.05039625 -0.06332999 -0.03099563\n",
            "  0.02289497  0.01103904  0.07139652  0.01427248 -0.00836158 -0.06764124\n",
            " -0.0105172  -0.02345095  0.06816308 -0.03530688 -0.01159501 -0.0730303\n",
            " -0.04177375  0.01427248 -0.00728377  0.0164281  -0.00943939 -0.01590626\n",
            "  0.0250506  -0.04931844  0.04121778 -0.06332999 -0.06440781 -0.02560657\n",
            " -0.00405033  0.00457217 -0.00728377 -0.0374625  -0.02560657 -0.02452876\n",
            " -0.01806189 -0.01482845 -0.02991782 -0.046085   -0.06979687  0.03367309\n",
            " -0.00405033 -0.02021751  0.00241654 -0.03099563  0.02828403 -0.03638469\n",
            " -0.05794093 -0.0374625   0.01211685 -0.02237314 -0.03530688  0.00996123\n",
            " -0.03961813  0.07139652 -0.07518593 -0.00620595 -0.04069594 -0.04824063\n",
            " -0.02560657  0.0519959   0.00457217 -0.06440781 -0.01698407 -0.05794093\n",
            "  0.00996123  0.08864151 -0.00512814 -0.06440781  0.01750591 -0.04500719\n",
            "  0.02828403  0.04121778  0.06492964 -0.03207344 -0.07626374  0.04984027\n",
            "  0.04552903 -0.00943939 -0.03207344  0.00457217  0.02073935  0.01427248\n",
            "  0.11019775  0.00133873  0.05846277 -0.02129532 -0.0105172  -0.04716281\n",
            "  0.00457217  0.01750591  0.08109682  0.0347509   0.02397278 -0.00836158\n",
            " -0.06117437 -0.00189471 -0.06225218  0.0164281   0.09618619 -0.06979687\n",
            " -0.02129532 -0.05362969  0.0433734   0.05630715 -0.0816528   0.04984027\n",
            "  0.11127556  0.06169621  0.01427248  0.04768465  0.01211685  0.00564998\n",
            "  0.04660684  0.12852056  0.05954058  0.09295276  0.01535029 -0.00512814\n",
            "  0.0703187  -0.00405033 -0.00081689 -0.04392938  0.02073935  0.06061839\n",
            " -0.0105172  -0.03315126 -0.06548562  0.0433734  -0.06225218  0.06385183\n",
            "  0.03043966  0.07247433 -0.0191397  -0.06656343 -0.06009656  0.06924089\n",
            "  0.05954058 -0.02668438 -0.02021751 -0.046085    0.07139652 -0.07949718\n",
            "  0.00996123 -0.03854032  0.01966154  0.02720622 -0.00836158 -0.01590626\n",
            "  0.00457217 -0.04285156  0.00564998 -0.03530688  0.02397278 -0.01806189\n",
            "  0.04229559 -0.0547075  -0.00297252 -0.06656343 -0.01267283 -0.04177375\n",
            " -0.03099563 -0.00512814 -0.05901875  0.0250506  -0.046085    0.00349435\n",
            "  0.05415152 -0.04500719 -0.05794093 -0.05578531  0.00133873  0.03043966\n",
            "  0.00672779  0.04660684  0.02612841  0.04552903  0.04013997 -0.01806189\n",
            "  0.01427248  0.03690653  0.00349435 -0.07087468 -0.03315126  0.09403057\n",
            "  0.03582872  0.03151747 -0.06548562 -0.04177375 -0.03961813 -0.03854032\n",
            " -0.02560657 -0.02345095 -0.06656343  0.03259528 -0.046085   -0.02991782\n",
            " -0.01267283 -0.01590626  0.07139652 -0.03099563  0.00026092  0.03690653\n",
            "  0.03906215 -0.01482845  0.00672779 -0.06871905 -0.00943939  0.01966154\n",
            "  0.07462995 -0.00836158 -0.02345095 -0.046085    0.05415152 -0.03530688\n",
            " -0.03207344 -0.0816528   0.04768465  0.06061839  0.05630715  0.09834182\n",
            "  0.05954058  0.03367309  0.05630715 -0.06548562  0.16085492 -0.05578531\n",
            " -0.02452876 -0.03638469 -0.00836158 -0.04177375  0.12744274 -0.07734155\n",
            "  0.02828403 -0.02560657 -0.06225218 -0.00081689  0.08864151 -0.03207344\n",
            "  0.03043966  0.00888341  0.00672779 -0.02021751 -0.02452876 -0.01159501\n",
            "  0.02612841 -0.05901875 -0.03638469 -0.02452876  0.01858372 -0.0902753\n",
            " -0.00512814 -0.05255187 -0.02237314 -0.02021751 -0.0547075  -0.00620595\n",
            " -0.01698407  0.05522933  0.07678558  0.01858372 -0.02237314  0.09295276\n",
            " -0.03099563  0.03906215 -0.06117437 -0.00836158 -0.0374625  -0.01375064\n",
            "  0.07355214 -0.02452876  0.03367309  0.0347509  -0.03854032 -0.03961813\n",
            " -0.00189471 -0.03099563 -0.046085    0.00133873  0.06492964  0.04013997\n",
            " -0.02345095  0.05307371  0.04013997 -0.02021751  0.01427248 -0.03422907\n",
            "  0.00672779  0.00457217  0.03043966  0.0519959   0.06169621 -0.00728377\n",
            "  0.00564998  0.05415152 -0.00836158  0.114509    0.06708527 -0.05578531\n",
            "  0.03043966 -0.02560657  0.10480869 -0.00620595 -0.04716281 -0.04824063\n",
            "  0.08540807 -0.01267283 -0.03315126 -0.00728377 -0.01375064  0.05954058\n",
            "  0.02181716  0.01858372 -0.01159501 -0.00297252  0.01750591 -0.02991782\n",
            " -0.02021751 -0.05794093  0.06061839 -0.04069594 -0.07195249 -0.05578531\n",
            "  0.04552903 -0.00943939 -0.03315126  0.04984027 -0.08488624  0.00564998\n",
            "  0.02073935 -0.00728377  0.10480869 -0.02452876 -0.00620595 -0.03854032\n",
            "  0.13714305  0.17055523  0.00241654  0.03798434 -0.05794093 -0.00943939\n",
            " -0.02345095 -0.0105172  -0.03422907 -0.00297252  0.06816308  0.00996123\n",
            "  0.00241654 -0.03854032  0.02612841 -0.08919748  0.06061839 -0.02884001\n",
            " -0.02991782 -0.0191397  -0.04069594  0.01535029 -0.02452876  0.00133873\n",
            "  0.06924089 -0.06979687 -0.02991782 -0.046085    0.01858372  0.00133873\n",
            " -0.03099563 -0.00405033  0.01535029  0.02289497  0.04552903 -0.04500719\n",
            " -0.03315126  0.097264    0.05415152  0.12313149 -0.08057499  0.09295276\n",
            " -0.05039625 -0.01159501 -0.0277622   0.05846277  0.08540807 -0.00081689\n",
            "  0.00672779  0.00888341  0.08001901  0.07139652 -0.02452876 -0.0547075\n",
            " -0.03638469  0.0164281   0.07786339 -0.03961813  0.01103904 -0.04069594\n",
            " -0.03422907  0.00564998  0.08864151 -0.03315126 -0.05686312 -0.03099563\n",
            "  0.05522933 -0.06009656  0.00133873 -0.02345095 -0.07410811  0.01966154\n",
            " -0.01590626 -0.01590626  0.03906215 -0.0730303 ]\n"
          ],
          "name": "stdout"
        }
      ]
    },
    {
      "cell_type": "code",
      "metadata": {
        "id": "gAfiQE3jlXSd",
        "colab_type": "code",
        "colab": {}
      },
      "source": [
        ""
      ],
      "execution_count": 0,
      "outputs": []
    }
  ]
}