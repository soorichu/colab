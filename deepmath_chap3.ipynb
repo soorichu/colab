{
  "nbformat": 4,
  "nbformat_minor": 0,
  "metadata": {
    "colab": {
      "name": "deepmath_chap3.ipynb",
      "provenance": [],
      "collapsed_sections": [],
      "authorship_tag": "ABX9TyNyB3Y6SrK6FTGbptn6SI11",
      "include_colab_link": true
    },
    "kernelspec": {
      "name": "python3",
      "display_name": "Python 3"
    },
    "accelerator": "GPU"
  },
  "cells": [
    {
      "cell_type": "markdown",
      "metadata": {
        "id": "view-in-github",
        "colab_type": "text"
      },
      "source": [
        "<a href=\"https://colab.research.google.com/github/soorichu/colab/blob/master/deepmath_chap3.ipynb\" target=\"_parent\"><img src=\"https://colab.research.google.com/assets/colab-badge.svg\" alt=\"Open In Colab\"/></a>"
      ]
    },
    {
      "cell_type": "markdown",
      "metadata": {
        "id": "HVVGAz1yCRfR",
        "colab_type": "text"
      },
      "source": [
        "# TensorFlow\n",
        "구글 브레인 AI 패키지. \n",
        "1. 딥러닝 모델을 그래프ㅡ 방식으로 표현함으로써 다양한 딥러닝 모델 구축 가능\n",
        "1. 자동으로 미분 계산 처리해주어 역전파법(Backpropagation) 구현이 생략 가능\n",
        "1. 텐서 보드를 사용하여 딥러닝 학습 진행 상황을 웹서버를 통해 간편한 모니터링 가능\n",
        "1. 적은 코드 내용 수정으로 그래픽카드를 사용한 가속 가능"
      ]
    },
    {
      "cell_type": "code",
      "metadata": {
        "id": "ySlwgLS7bv1l",
        "colab_type": "code",
        "colab": {
          "base_uri": "https://localhost:8080/",
          "height": 35
        },
        "outputId": "005ffa0a-2136-4e1c-d4c4-e4e864b40f08"
      },
      "source": [
        "%tensorflow_version 1.x"
      ],
      "execution_count": 1,
      "outputs": [
        {
          "output_type": "stream",
          "text": [
            "TensorFlow 1.x selected.\n"
          ],
          "name": "stdout"
        }
      ]
    },
    {
      "cell_type": "code",
      "metadata": {
        "id": "RQrom6sRC49g",
        "colab_type": "code",
        "colab": {}
      },
      "source": [
        "import numpy as np\n",
        "import tensorflow as tf"
      ],
      "execution_count": 0,
      "outputs": []
    },
    {
      "cell_type": "markdown",
      "metadata": {
        "id": "8qbtwnydDEjC",
        "colab_type": "text"
      },
      "source": [
        "## Tensor \n",
        "텐서는 벡터와 행렬의 N차원 배열을 일반화한 개념. 딥러닝에 필요한 데이터와 계산된 값들은 모두 예외 없이 텐서로 표현된다. 모든 텐서에는 Data Type과 Shape가 있다. \n",
        "\n",
        "Data Type은 float32, float64, int32, int64, bool, string 등 기본적인 타입들이 있다. 한 텐서는 모두 같은 데이터 타입이 구성되어야 한다.\n",
        "\n",
        "Shape는 각 차원의 크기를 알려주는 튜플. N차원 텐서라면 튜플의 길이는 N이 된다. 그리고 이 때 N을 Rank라고 부른다. 다음은 특정한 렝크를 갖는 텐서의 경우를 부르는 수학적 용어를 소개하는 표\n",
        "\n",
        "| Rank | Math |\n",
        "|------|------|\n",
        "|0 | 스칼라 |\n",
        "|1|벡터|\n",
        "|2|행렬|\n",
        "|3|3-텐서(Cube of numbers)|\n",
        "|N|N-텐서|\n",
        "\n",
        "텐서플로를 사용할 때 직접 텐서 클래스를 사용하는 경우는 드물고, Constant, Placeholder, Variable 등 텐서 클래스를 상속 박는 자식 클래스들을 통해 그래프를 구성한다.\n",
        "\n",
        "## Graph\n",
        "텐서플로를 사용하는 코드는 '그래프 만들기'와 '만든 그래프에 데이터 흘려 보내기' 두 부분으로 나눌 수 있다.\n",
        "텐서플로에서는 노드에 해당하는 클래스가 연산(Operation)이고, 에지(화살표)에 해당되는 클래스가 텐서(Tensor)이다. 딥러닝 모델을 데이터가 들어와 노드를 거치며 변하는 그래프를 표현한다. \n",
        "\n",
        "### 텐서T(Tensor) + 흐름(Flow) = TensorFlow"
      ]
    },
    {
      "cell_type": "code",
      "metadata": {
        "id": "ToHtshbgES2Z",
        "colab_type": "code",
        "outputId": "d3c69352-46db-4bf8-88ec-6926cb680003",
        "colab": {
          "base_uri": "https://localhost:8080/",
          "height": 35
        }
      },
      "source": [
        "hc = tf.constant('Hello World')\n",
        "print(hc)"
      ],
      "execution_count": 4,
      "outputs": [
        {
          "output_type": "stream",
          "text": [
            "Tensor(\"Const:0\", shape=(), dtype=string)\n"
          ],
          "name": "stdout"
        }
      ]
    },
    {
      "cell_type": "code",
      "metadata": {
        "id": "a_3ofWy_GpU5",
        "colab_type": "code",
        "outputId": "a3c9bb98-dd01-4cf5-abd9-6274ca3d224e",
        "colab": {
          "base_uri": "https://localhost:8080/",
          "height": 35
        }
      },
      "source": [
        "sess= tf.Session()\n",
        "output = sess.run(hc)\n",
        "print(output)"
      ],
      "execution_count": 5,
      "outputs": [
        {
          "output_type": "stream",
          "text": [
            "b'Hello World'\n"
          ],
          "name": "stdout"
        }
      ]
    },
    {
      "cell_type": "markdown",
      "metadata": {
        "id": "_Ht5ZnZESo6k",
        "colab_type": "text"
      },
      "source": [
        "## 주요 타입\n",
        "1. Constant\n",
        "1. Placeholder\n",
        "1. Variable"
      ]
    },
    {
      "cell_type": "markdown",
      "metadata": {
        "id": "eobfZh57S4CA",
        "colab_type": "text"
      },
      "source": [
        "### 1. Constant"
      ]
    },
    {
      "cell_type": "code",
      "metadata": {
        "id": "vRs8cNWSS7vY",
        "colab_type": "code",
        "colab": {
          "base_uri": "https://localhost:8080/",
          "height": 35
        },
        "outputId": "8eb2a259-af60-41e5-94dd-07bdf962c2af"
      },
      "source": [
        "hc = tf.constant(\"Hello world\")\n",
        "with tf.Session() as sess:\n",
        "  output = sess.run(hc)\n",
        "print(output)"
      ],
      "execution_count": 8,
      "outputs": [
        {
          "output_type": "stream",
          "text": [
            "b'Hello world'\n"
          ],
          "name": "stdout"
        }
      ]
    },
    {
      "cell_type": "markdown",
      "metadata": {
        "id": "ztvbr1FcTJvL",
        "colab_type": "text"
      },
      "source": [
        "### 2. Placeholder"
      ]
    },
    {
      "cell_type": "code",
      "metadata": {
        "id": "cpdQLU-KTMPw",
        "colab_type": "code",
        "colab": {
          "base_uri": "https://localhost:8080/",
          "height": 35
        },
        "outputId": "a0d1bbd4-3084-480f-abc4-422cbbe54ae1"
      },
      "source": [
        "hp = tf.placeholder(tf.string, shape=None)\n",
        "with tf.Session() as sess:\n",
        "  output = sess.run(hp, feed_dict={hp:'Hello World'})\n",
        "print(output)"
      ],
      "execution_count": 11,
      "outputs": [
        {
          "output_type": "stream",
          "text": [
            "Hello World\n"
          ],
          "name": "stdout"
        }
      ]
    },
    {
      "cell_type": "code",
      "metadata": {
        "id": "dM774BamTVdo",
        "colab_type": "code",
        "colab": {}
      },
      "source": [
        "x = tf.placeholder(tf.string, shape=None)\n",
        "y = tf.placeholder(tf.int32, shape=None)\n",
        "z = tf.placeholder(tf.float32, shape=None)"
      ],
      "execution_count": 0,
      "outputs": []
    },
    {
      "cell_type": "code",
      "metadata": {
        "id": "WP2uWXUlUBd0",
        "colab_type": "code",
        "colab": {
          "base_uri": "https://localhost:8080/",
          "height": 35
        },
        "outputId": "fcaa7c31-5711-48b2-93fa-83138e1001ad"
      },
      "source": [
        "with tf.Session() as sess:\n",
        "  output = sess.run(x, feed_dict={x:'Hello World', y:123, z:45.67})\n",
        "print(output)"
      ],
      "execution_count": 13,
      "outputs": [
        {
          "output_type": "stream",
          "text": [
            "Hello World\n"
          ],
          "name": "stdout"
        }
      ]
    },
    {
      "cell_type": "code",
      "metadata": {
        "id": "F_WI_fzdUJpQ",
        "colab_type": "code",
        "colab": {}
      },
      "source": [
        "with tf.Session() as sess:\n",
        "  output = sess.run([x, y, z], feed_dict={x:'hello world', y:123, z:45.67})"
      ],
      "execution_count": 0,
      "outputs": []
    },
    {
      "cell_type": "code",
      "metadata": {
        "id": "hibKdY7tUUcQ",
        "colab_type": "code",
        "colab": {
          "base_uri": "https://localhost:8080/",
          "height": 35
        },
        "outputId": "b519b6f5-1cfe-4e8b-d8b3-1491922634bb"
      },
      "source": [
        "xval, yval, zval = output\n",
        "print(xval, yval, zval)"
      ],
      "execution_count": 15,
      "outputs": [
        {
          "output_type": "stream",
          "text": [
            "hello world 123 45.67\n"
          ],
          "name": "stdout"
        }
      ]
    },
    {
      "cell_type": "code",
      "metadata": {
        "id": "UT9Jv5jfUaUg",
        "colab_type": "code",
        "colab": {
          "base_uri": "https://localhost:8080/",
          "height": 35
        },
        "outputId": "5866ff59-8faf-4d24-8690-ad545b6ecc37"
      },
      "source": [
        "x = tf.placeholder(tf.int32, shape=(2))\n",
        "with tf.Session() as sess:\n",
        "  output = sess.run(x, feed_dict={x: [1,2]})\n",
        "print(output)"
      ],
      "execution_count": 20,
      "outputs": [
        {
          "output_type": "stream",
          "text": [
            "[1 2]\n"
          ],
          "name": "stdout"
        }
      ]
    },
    {
      "cell_type": "code",
      "metadata": {
        "colab_type": "code",
        "outputId": "56aa1145-94c5-476a-d3e9-9df497063f10",
        "id": "xTpzRPxDYHH6",
        "colab": {
          "base_uri": "https://localhost:8080/",
          "height": 53
        }
      },
      "source": [
        "x = tf.placeholder(tf.int32, shape=(2, 3))\n",
        "with tf.Session() as sess:\n",
        "  output = sess.run(x, feed_dict={x: [[1,2,3], [4,5,6]]})\n",
        "print(output)"
      ],
      "execution_count": 22,
      "outputs": [
        {
          "output_type": "stream",
          "text": [
            "[[1 2 3]\n",
            " [4 5 6]]\n"
          ],
          "name": "stdout"
        }
      ]
    },
    {
      "cell_type": "markdown",
      "metadata": {
        "id": "WlONs7kXYe-w",
        "colab_type": "text"
      },
      "source": [
        "### Variable\n",
        "Variable 타입은 딥러닝에서 가장 핵심적인 역할을 한다. 딥러닝 모델을 학습한다는 것은 가장 좋은 딥러닝 모델을 만드는 Variable을 찾는다고 말할 수 있다."
      ]
    },
    {
      "cell_type": "code",
      "metadata": {
        "id": "GYvHGTAPYusf",
        "colab_type": "code",
        "colab": {
          "base_uri": "https://localhost:8080/",
          "height": 53
        },
        "outputId": "29f97c68-2f4c-4f36-cf60-ecb9c930159e"
      },
      "source": [
        "x = tf.Variable(10)\n",
        "print(x)"
      ],
      "execution_count": 23,
      "outputs": [
        {
          "output_type": "stream",
          "text": [
            "<tf.Variable 'Variable:0' shape=() dtype=int32_ref>\n",
            "ERROR! Session/line number was not unique in database. History logging moved to new session 61\n"
          ],
          "name": "stdout"
        }
      ]
    },
    {
      "cell_type": "code",
      "metadata": {
        "id": "SyKC5_ECYxhg",
        "colab_type": "code",
        "colab": {
          "base_uri": "https://localhost:8080/",
          "height": 53
        },
        "outputId": "5514c9dd-6a25-49bd-9427-f002dd74fe99"
      },
      "source": [
        "init = tf.global_variables_initializer()\n",
        "with tf.Session() as sess:\n",
        "  sess.run(init)\n",
        "print(output)"
      ],
      "execution_count": 25,
      "outputs": [
        {
          "output_type": "stream",
          "text": [
            "[[1 2 3]\n",
            " [4 5 6]]\n"
          ],
          "name": "stdout"
        }
      ]
    },
    {
      "cell_type": "code",
      "metadata": {
        "id": "qlvaydvbY5IH",
        "colab_type": "code",
        "colab": {
          "base_uri": "https://localhost:8080/",
          "height": 35
        },
        "outputId": "296cb8ed-46bb-4a1b-8619-7fd153879c4b"
      },
      "source": [
        "x = tf.Variable(10)\n",
        "init = tf.global_variables_initializer()\n",
        "with tf.Session() as sess:\n",
        "  sess.run(init)\n",
        "  output = sess.run(x)\n",
        "print(output)"
      ],
      "execution_count": 28,
      "outputs": [
        {
          "output_type": "stream",
          "text": [
            "10\n"
          ],
          "name": "stdout"
        }
      ]
    },
    {
      "cell_type": "code",
      "metadata": {
        "id": "hQFGwp8Ja3HN",
        "colab_type": "code",
        "colab": {
          "base_uri": "https://localhost:8080/",
          "height": 55
        },
        "outputId": "c45483b3-e32a-485a-a7a0-6aa168bb2ab3"
      },
      "source": [
        "x = tf.constant(10)\n",
        "y = tf.constant(2)\n",
        "z = x / y\n",
        "w = z - 1\n",
        "print(x, y, z, w)"
      ],
      "execution_count": 32,
      "outputs": [
        {
          "output_type": "stream",
          "text": [
            "Tensor(\"Const_2:0\", shape=(), dtype=int32) Tensor(\"Const_3:0\", shape=(), dtype=int32) Tensor(\"truediv:0\", shape=(), dtype=float64) Tensor(\"sub:0\", shape=(), dtype=float64)\n"
          ],
          "name": "stdout"
        }
      ]
    },
    {
      "cell_type": "code",
      "metadata": {
        "id": "Fchgltxvblqm",
        "colab_type": "code",
        "colab": {
          "base_uri": "https://localhost:8080/",
          "height": 35
        },
        "outputId": "15d39e3e-f518-4c39-e60e-61f852e93df6"
      },
      "source": [
        "with tf.Session() as sess:\n",
        "  output = sess.run([z, w])\n",
        "print(output)"
      ],
      "execution_count": 33,
      "outputs": [
        {
          "output_type": "stream",
          "text": [
            "[5.0, 4.0]\n"
          ],
          "name": "stdout"
        }
      ]
    },
    {
      "cell_type": "markdown",
      "metadata": {
        "id": "seVMpFckc-Qv",
        "colab_type": "text"
      },
      "source": [
        "## 스칼라 덧셈\n",
        "### $z = x + y$"
      ]
    },
    {
      "cell_type": "code",
      "metadata": {
        "id": "G02UourDdEJ8",
        "colab_type": "code",
        "colab": {
          "base_uri": "https://localhost:8080/",
          "height": 35
        },
        "outputId": "5e60b74b-9897-4307-cc4f-fc32bacc1a83"
      },
      "source": [
        "x = tf.constant(10)\n",
        "y = tf.constant(2)\n",
        "z = x + y\n",
        "with tf.Session() as sess:\n",
        "  output = sess.run(z)\n",
        "print(output)"
      ],
      "execution_count": 38,
      "outputs": [
        {
          "output_type": "stream",
          "text": [
            "12\n"
          ],
          "name": "stdout"
        }
      ]
    },
    {
      "cell_type": "code",
      "metadata": {
        "id": "dJ--IYV3dQ50",
        "colab_type": "code",
        "colab": {
          "base_uri": "https://localhost:8080/",
          "height": 35
        },
        "outputId": "d4a6718a-40b0-4c50-f8b3-13b46d18cf07"
      },
      "source": [
        "x = tf.placeholder(tf.int32)\n",
        "y = tf.placeholder(tf.int32)\n",
        "z = x + y\n",
        "\n",
        "with tf.Session() as sess:\n",
        "  output = sess.run(z, feed_dict={x:10, y:2})\n",
        "print(output)"
      ],
      "execution_count": 39,
      "outputs": [
        {
          "output_type": "stream",
          "text": [
            "12\n"
          ],
          "name": "stdout"
        }
      ]
    },
    {
      "cell_type": "code",
      "metadata": {
        "id": "nbwcXbFkdkw8",
        "colab_type": "code",
        "colab": {
          "base_uri": "https://localhost:8080/",
          "height": 35
        },
        "outputId": "b65716d3-9fe0-4e9a-eb13-bc6a6f33775b"
      },
      "source": [
        "x = tf.Variable(10, dtype=tf.int32)\n",
        "y = tf.Variable(2, dtype=tf.int32)\n",
        "z = x + y\n",
        "int = tf.global_variables_initializer()\n",
        "with tf.Session() as sess:\n",
        "  sess.run(init)\n",
        "  output = sess.run(z, feed_dict={x:10, y:2})\n",
        "print(output)"
      ],
      "execution_count": 41,
      "outputs": [
        {
          "output_type": "stream",
          "text": [
            "12\n"
          ],
          "name": "stdout"
        }
      ]
    },
    {
      "cell_type": "code",
      "metadata": {
        "id": "IZDe84o8d6Dm",
        "colab_type": "code",
        "colab": {
          "base_uri": "https://localhost:8080/",
          "height": 35
        },
        "outputId": "201dadba-c1a3-4538-c6b6-1853711538a4"
      },
      "source": [
        "x = tf.constant(4.0)\n",
        "z = tf.square(x)\n",
        "\n",
        "with tf.Session() as sess:\n",
        "  output = sess.run(z)\n",
        "  print(output)"
      ],
      "execution_count": 42,
      "outputs": [
        {
          "output_type": "stream",
          "text": [
            "16.0\n"
          ],
          "name": "stdout"
        }
      ]
    },
    {
      "cell_type": "code",
      "metadata": {
        "id": "65DqadBqeTbs",
        "colab_type": "code",
        "colab": {
          "base_uri": "https://localhost:8080/",
          "height": 35
        },
        "outputId": "8881c80a-8bed-48da-ab64-73a4f2800205"
      },
      "source": [
        "x = tf.placeholder(tf.float64)\n",
        "z = tf.square(x)\n",
        "\n",
        "with tf.Session() as sess:\n",
        "  output = sess.run(z, feed_dict={x:4.0})\n",
        "print(output)"
      ],
      "execution_count": 43,
      "outputs": [
        {
          "output_type": "stream",
          "text": [
            "16.0\n"
          ],
          "name": "stdout"
        }
      ]
    },
    {
      "cell_type": "code",
      "metadata": {
        "id": "zDvZrsuPehTM",
        "colab_type": "code",
        "colab": {
          "base_uri": "https://localhost:8080/",
          "height": 35
        },
        "outputId": "b74d7855-6a91-493f-c06c-4e23ea5bb08a"
      },
      "source": [
        "x = tf.Variable(4.0)\n",
        "z = tf.square(x) # pow(x, 3), squared_difference(x, y), sqrt(x), pow(x, 1.0/3.0), reduce_min(x)\n",
        "\n",
        "init = tf.global_variables_initializer()\n",
        "with tf.Session() as sess:\n",
        "  sess.run(init)\n",
        "  output = sess.run(z)\n",
        "print(output)"
      ],
      "execution_count": 44,
      "outputs": [
        {
          "output_type": "stream",
          "text": [
            "16.0\n"
          ],
          "name": "stdout"
        }
      ]
    },
    {
      "cell_type": "code",
      "metadata": {
        "id": "fJR88Tf8fAZs",
        "colab_type": "code",
        "colab": {
          "base_uri": "https://localhost:8080/",
          "height": 35
        },
        "outputId": "10de0202-6d44-4dd9-9072-7561df8ed772"
      },
      "source": [
        "x = tf.constant([1, 2, 3, 4, 5, 6, 7, 8, 9, 10], dtype=tf.float64)\n",
        "y = tf.reduce_sum(x)\n",
        "z = tf.reduce_mean(x)\n",
        "\n",
        "with tf.Session() as sess:\n",
        "  output = sess.run([y, z])\n",
        "print(output)"
      ],
      "execution_count": 45,
      "outputs": [
        {
          "output_type": "stream",
          "text": [
            "[55.0, 5.5]\n"
          ],
          "name": "stdout"
        }
      ]
    }
  ]
}