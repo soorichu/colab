{
  "nbformat": 4,
  "nbformat_minor": 0,
  "metadata": {
    "colab": {
      "name": "MLlec02.ipynb",
      "provenance": [],
      "authorship_tag": "ABX9TyNV/kW8/lumYv+9Wze+74UZ",
      "include_colab_link": true
    },
    "kernelspec": {
      "name": "python3",
      "display_name": "Python 3"
    },
    "accelerator": "GPU"
  },
  "cells": [
    {
      "cell_type": "markdown",
      "metadata": {
        "id": "view-in-github",
        "colab_type": "text"
      },
      "source": [
        "<a href=\"https://colab.research.google.com/github/soorichu/colab/blob/master/MLlec02.ipynb\" target=\"_parent\"><img src=\"https://colab.research.google.com/assets/colab-badge.svg\" alt=\"Open In Colab\"/></a>"
      ]
    },
    {
      "cell_type": "code",
      "metadata": {
        "id": "ySlwgLS7bv1l",
        "colab_type": "code",
        "outputId": "143aba3a-d453-444d-dcb3-e6eb6d734df8",
        "colab": {
          "base_uri": "https://localhost:8080/",
          "height": 35
        }
      },
      "source": [
        "%tensorflow_version 2.x"
      ],
      "execution_count": 0,
      "outputs": [
        {
          "output_type": "stream",
          "text": [
            "TensorFlow 2.x selected.\n"
          ],
          "name": "stdout"
        }
      ]
    },
    {
      "cell_type": "code",
      "metadata": {
        "id": "3JWrG3l-b3c7",
        "colab_type": "code",
        "colab": {}
      },
      "source": [
        "from tensorflow.keras.datasets import boston_housing\n",
        "from tensorflow.keras.models import Sequential\n",
        "from tensorflow.keras.layers import Activation, Dense\n",
        "from tensorflow.keras import optimizers"
      ],
      "execution_count": 0,
      "outputs": []
    },
    {
      "cell_type": "code",
      "metadata": {
        "id": "0_violXvZEX1",
        "colab_type": "code",
        "outputId": "acca7518-e26e-4849-920c-d849939c952c",
        "colab": {
          "base_uri": "https://localhost:8080/",
          "height": 71
        }
      },
      "source": [
        "(X_train, y_train), (X_test, y_test) = boston_housing.load_data()\n",
        "print(X_train.shape, X_test.shape, y_train.shape, y_test.shape)"
      ],
      "execution_count": 0,
      "outputs": [
        {
          "output_type": "stream",
          "text": [
            "Downloading data from https://storage.googleapis.com/tensorflow/tf-keras-datasets/boston_housing.npz\n",
            "57344/57026 [==============================] - 0s 0us/step\n",
            "(404, 13) (102, 13) (404,) (102,)\n"
          ],
          "name": "stdout"
        }
      ]
    },
    {
      "cell_type": "code",
      "metadata": {
        "id": "rcwF0Mlzb8Ji",
        "colab_type": "code",
        "colab": {}
      },
      "source": [
        "model = Sequential()"
      ],
      "execution_count": 0,
      "outputs": []
    },
    {
      "cell_type": "code",
      "metadata": {
        "id": "HKMuYFFzcEvn",
        "colab_type": "code",
        "colab": {}
      },
      "source": [
        "model.add(Dense(10, input_shape = (13, ), activation='sigmoid'))\n",
        "model.add(Dense(10, activation = 'sigmoid'))\n",
        "model.add(Dense(10, activation='sigmoid'))\n",
        "model.add(Dense(1))"
      ],
      "execution_count": 0,
      "outputs": []
    },
    {
      "cell_type": "code",
      "metadata": {
        "id": "hMDLr_teccyz",
        "colab_type": "code",
        "colab": {}
      },
      "source": [
        "sgd = optimizers.SGD(lr=0.01)"
      ],
      "execution_count": 0,
      "outputs": []
    },
    {
      "cell_type": "code",
      "metadata": {
        "id": "qcgSWaZzcjvY",
        "colab_type": "code",
        "outputId": "d9f34a87-ba97-4ef6-9060-0a536797e518",
        "colab": {
          "base_uri": "https://localhost:8080/",
          "height": 305
        }
      },
      "source": [
        "model.summary()"
      ],
      "execution_count": 0,
      "outputs": [
        {
          "output_type": "stream",
          "text": [
            "Model: \"sequential\"\n",
            "_________________________________________________________________\n",
            "Layer (type)                 Output Shape              Param #   \n",
            "=================================================================\n",
            "dense (Dense)                (None, 10)                140       \n",
            "_________________________________________________________________\n",
            "dense_1 (Dense)              (None, 10)                110       \n",
            "_________________________________________________________________\n",
            "dense_2 (Dense)              (None, 10)                110       \n",
            "_________________________________________________________________\n",
            "dense_3 (Dense)              (None, 1)                 11        \n",
            "=================================================================\n",
            "Total params: 371\n",
            "Trainable params: 371\n",
            "Non-trainable params: 0\n",
            "_________________________________________________________________\n"
          ],
          "name": "stdout"
        }
      ]
    },
    {
      "cell_type": "code",
      "metadata": {
        "id": "5cfGaZkdcl2X",
        "colab_type": "code",
        "colab": {}
      },
      "source": [
        "model.compile(optimizer = sgd, loss='mean_squared_error', metrics = ['mse'])"
      ],
      "execution_count": 0,
      "outputs": []
    },
    {
      "cell_type": "code",
      "metadata": {
        "id": "EoXOwgP6cwn1",
        "colab_type": "code",
        "outputId": "ca653f54-23fe-4ed8-d406-ec555a21abe9",
        "colab": {
          "base_uri": "https://localhost:8080/",
          "height": 1000
        }
      },
      "source": [
        "model.fit(X_train, y_train, batch_size=50, epochs = 100, verbose = 1)"
      ],
      "execution_count": 0,
      "outputs": [
        {
          "output_type": "stream",
          "text": [
            "Train on 404 samples\n",
            "Epoch 1/100\n",
            "404/404 [==============================] - 2s 5ms/sample - loss: 395.5395 - mse: 395.5396\n",
            "Epoch 2/100\n",
            "404/404 [==============================] - 0s 79us/sample - loss: 115.7520 - mse: 115.7520\n",
            "Epoch 3/100\n",
            "404/404 [==============================] - 0s 67us/sample - loss: 86.9966 - mse: 86.9966\n",
            "Epoch 4/100\n",
            "404/404 [==============================] - 0s 68us/sample - loss: 84.7584 - mse: 84.7584\n",
            "Epoch 5/100\n",
            "404/404 [==============================] - 0s 63us/sample - loss: 84.9721 - mse: 84.9721\n",
            "Epoch 6/100\n",
            "404/404 [==============================] - 0s 66us/sample - loss: 84.9408 - mse: 84.9408\n",
            "Epoch 7/100\n",
            "404/404 [==============================] - 0s 58us/sample - loss: 85.2929 - mse: 85.2929\n",
            "Epoch 8/100\n",
            "404/404 [==============================] - 0s 69us/sample - loss: 85.6151 - mse: 85.6151\n",
            "Epoch 9/100\n",
            "404/404 [==============================] - 0s 71us/sample - loss: 85.0308 - mse: 85.0309\n",
            "Epoch 10/100\n",
            "404/404 [==============================] - 0s 85us/sample - loss: 85.0799 - mse: 85.0799\n",
            "Epoch 11/100\n",
            "404/404 [==============================] - 0s 69us/sample - loss: 85.6426 - mse: 85.6426\n",
            "Epoch 12/100\n",
            "404/404 [==============================] - 0s 67us/sample - loss: 86.4001 - mse: 86.4001\n",
            "Epoch 13/100\n",
            "404/404 [==============================] - 0s 66us/sample - loss: 85.6900 - mse: 85.6900\n",
            "Epoch 14/100\n",
            "404/404 [==============================] - 0s 64us/sample - loss: 85.0312 - mse: 85.0312\n",
            "Epoch 15/100\n",
            "404/404 [==============================] - 0s 63us/sample - loss: 84.8315 - mse: 84.8315\n",
            "Epoch 16/100\n",
            "404/404 [==============================] - 0s 69us/sample - loss: 85.5290 - mse: 85.5290\n",
            "Epoch 17/100\n",
            "404/404 [==============================] - 0s 68us/sample - loss: 85.5795 - mse: 85.5795\n",
            "Epoch 18/100\n",
            "404/404 [==============================] - 0s 68us/sample - loss: 84.9537 - mse: 84.9537\n",
            "Epoch 19/100\n",
            "404/404 [==============================] - 0s 70us/sample - loss: 86.0601 - mse: 86.0601\n",
            "Epoch 20/100\n",
            "404/404 [==============================] - 0s 90us/sample - loss: 84.9247 - mse: 84.9247\n",
            "Epoch 21/100\n",
            "404/404 [==============================] - 0s 57us/sample - loss: 85.0774 - mse: 85.0774\n",
            "Epoch 22/100\n",
            "404/404 [==============================] - 0s 83us/sample - loss: 84.8605 - mse: 84.8605\n",
            "Epoch 23/100\n",
            "404/404 [==============================] - 0s 77us/sample - loss: 84.9222 - mse: 84.9222\n",
            "Epoch 24/100\n",
            "404/404 [==============================] - 0s 68us/sample - loss: 85.0703 - mse: 85.0703\n",
            "Epoch 25/100\n",
            "404/404 [==============================] - 0s 58us/sample - loss: 84.9466 - mse: 84.9466\n",
            "Epoch 26/100\n",
            "404/404 [==============================] - 0s 62us/sample - loss: 85.4396 - mse: 85.4396\n",
            "Epoch 27/100\n",
            "404/404 [==============================] - 0s 73us/sample - loss: 86.0747 - mse: 86.0747\n",
            "Epoch 28/100\n",
            "404/404 [==============================] - 0s 62us/sample - loss: 85.3430 - mse: 85.3430\n",
            "Epoch 29/100\n",
            "404/404 [==============================] - 0s 75us/sample - loss: 85.3716 - mse: 85.3716\n",
            "Epoch 30/100\n",
            "404/404 [==============================] - 0s 75us/sample - loss: 85.2504 - mse: 85.2504\n",
            "Epoch 31/100\n",
            "404/404 [==============================] - 0s 79us/sample - loss: 84.7280 - mse: 84.7280\n",
            "Epoch 32/100\n",
            "404/404 [==============================] - 0s 66us/sample - loss: 84.9367 - mse: 84.9367\n",
            "Epoch 33/100\n",
            "404/404 [==============================] - 0s 64us/sample - loss: 84.9980 - mse: 84.9980\n",
            "Epoch 34/100\n",
            "404/404 [==============================] - 0s 65us/sample - loss: 84.8630 - mse: 84.8630\n",
            "Epoch 35/100\n",
            "404/404 [==============================] - 0s 64us/sample - loss: 84.9417 - mse: 84.9417\n",
            "Epoch 36/100\n",
            "404/404 [==============================] - 0s 68us/sample - loss: 84.9284 - mse: 84.9284\n",
            "Epoch 37/100\n",
            "404/404 [==============================] - 0s 68us/sample - loss: 85.2539 - mse: 85.2539\n",
            "Epoch 38/100\n",
            "404/404 [==============================] - 0s 67us/sample - loss: 84.7594 - mse: 84.7594\n",
            "Epoch 39/100\n",
            "404/404 [==============================] - 0s 75us/sample - loss: 84.8362 - mse: 84.8362\n",
            "Epoch 40/100\n",
            "404/404 [==============================] - 0s 118us/sample - loss: 85.0382 - mse: 85.0382\n",
            "Epoch 41/100\n",
            "404/404 [==============================] - 0s 63us/sample - loss: 84.9161 - mse: 84.9161\n",
            "Epoch 42/100\n",
            "404/404 [==============================] - 0s 71us/sample - loss: 84.8570 - mse: 84.8570\n",
            "Epoch 43/100\n",
            "404/404 [==============================] - 0s 72us/sample - loss: 84.9044 - mse: 84.9044\n",
            "Epoch 44/100\n",
            "404/404 [==============================] - 0s 72us/sample - loss: 84.8795 - mse: 84.8795\n",
            "Epoch 45/100\n",
            "404/404 [==============================] - 0s 66us/sample - loss: 85.1576 - mse: 85.1576\n",
            "Epoch 46/100\n",
            "404/404 [==============================] - 0s 79us/sample - loss: 85.2115 - mse: 85.2115\n",
            "Epoch 47/100\n",
            "404/404 [==============================] - 0s 65us/sample - loss: 84.7091 - mse: 84.7091\n",
            "Epoch 48/100\n",
            "404/404 [==============================] - 0s 64us/sample - loss: 85.1752 - mse: 85.1752\n",
            "Epoch 49/100\n",
            "404/404 [==============================] - 0s 63us/sample - loss: 85.5128 - mse: 85.5128\n",
            "Epoch 50/100\n",
            "404/404 [==============================] - 0s 84us/sample - loss: 85.1147 - mse: 85.1147\n",
            "Epoch 51/100\n",
            "404/404 [==============================] - 0s 76us/sample - loss: 84.9791 - mse: 84.9791\n",
            "Epoch 52/100\n",
            "404/404 [==============================] - 0s 65us/sample - loss: 85.1819 - mse: 85.1819\n",
            "Epoch 53/100\n",
            "404/404 [==============================] - 0s 66us/sample - loss: 85.6288 - mse: 85.6288\n",
            "Epoch 54/100\n",
            "404/404 [==============================] - 0s 64us/sample - loss: 84.9672 - mse: 84.9672\n",
            "Epoch 55/100\n",
            "404/404 [==============================] - 0s 63us/sample - loss: 86.2440 - mse: 86.2440\n",
            "Epoch 56/100\n",
            "404/404 [==============================] - 0s 80us/sample - loss: 84.9396 - mse: 84.9396\n",
            "Epoch 57/100\n",
            "404/404 [==============================] - 0s 77us/sample - loss: 84.7784 - mse: 84.7784\n",
            "Epoch 58/100\n",
            "404/404 [==============================] - 0s 69us/sample - loss: 84.8028 - mse: 84.8028\n",
            "Epoch 59/100\n",
            "404/404 [==============================] - 0s 62us/sample - loss: 84.9399 - mse: 84.9399\n",
            "Epoch 60/100\n",
            "404/404 [==============================] - 0s 73us/sample - loss: 84.6839 - mse: 84.6839\n",
            "Epoch 61/100\n",
            "404/404 [==============================] - 0s 76us/sample - loss: 85.0094 - mse: 85.0094\n",
            "Epoch 62/100\n",
            "404/404 [==============================] - 0s 70us/sample - loss: 84.9396 - mse: 84.9396\n",
            "Epoch 63/100\n",
            "404/404 [==============================] - 0s 63us/sample - loss: 85.0988 - mse: 85.0988\n",
            "Epoch 64/100\n",
            "404/404 [==============================] - 0s 63us/sample - loss: 85.0217 - mse: 85.0217\n",
            "Epoch 65/100\n",
            "404/404 [==============================] - 0s 63us/sample - loss: 84.8251 - mse: 84.8251\n",
            "Epoch 66/100\n",
            "404/404 [==============================] - 0s 66us/sample - loss: 85.5923 - mse: 85.5923\n",
            "Epoch 67/100\n",
            "404/404 [==============================] - 0s 71us/sample - loss: 84.8568 - mse: 84.8568\n",
            "Epoch 68/100\n",
            "404/404 [==============================] - 0s 83us/sample - loss: 84.9320 - mse: 84.9320\n",
            "Epoch 69/100\n",
            "404/404 [==============================] - 0s 72us/sample - loss: 84.9314 - mse: 84.9314\n",
            "Epoch 70/100\n",
            "404/404 [==============================] - 0s 80us/sample - loss: 85.3802 - mse: 85.3802\n",
            "Epoch 71/100\n",
            "404/404 [==============================] - 0s 77us/sample - loss: 85.5050 - mse: 85.5051\n",
            "Epoch 72/100\n",
            "404/404 [==============================] - 0s 88us/sample - loss: 85.0111 - mse: 85.0111\n",
            "Epoch 73/100\n",
            "404/404 [==============================] - 0s 66us/sample - loss: 85.2941 - mse: 85.2942\n",
            "Epoch 74/100\n",
            "404/404 [==============================] - 0s 70us/sample - loss: 85.3244 - mse: 85.3244\n",
            "Epoch 75/100\n",
            "404/404 [==============================] - 0s 66us/sample - loss: 85.0824 - mse: 85.0824\n",
            "Epoch 76/100\n",
            "404/404 [==============================] - 0s 66us/sample - loss: 84.7784 - mse: 84.7784\n",
            "Epoch 77/100\n",
            "404/404 [==============================] - 0s 65us/sample - loss: 84.7835 - mse: 84.7835\n",
            "Epoch 78/100\n",
            "404/404 [==============================] - 0s 67us/sample - loss: 84.9744 - mse: 84.9744\n",
            "Epoch 79/100\n",
            "404/404 [==============================] - 0s 73us/sample - loss: 85.2436 - mse: 85.2436\n",
            "Epoch 80/100\n",
            "404/404 [==============================] - 0s 92us/sample - loss: 85.3257 - mse: 85.3257\n",
            "Epoch 81/100\n",
            "404/404 [==============================] - 0s 63us/sample - loss: 84.7080 - mse: 84.7080\n",
            "Epoch 82/100\n",
            "404/404 [==============================] - 0s 62us/sample - loss: 84.9680 - mse: 84.9680\n",
            "Epoch 83/100\n",
            "404/404 [==============================] - 0s 66us/sample - loss: 84.9029 - mse: 84.9029\n",
            "Epoch 84/100\n",
            "404/404 [==============================] - 0s 59us/sample - loss: 85.0190 - mse: 85.0190\n",
            "Epoch 85/100\n",
            "404/404 [==============================] - 0s 67us/sample - loss: 85.4005 - mse: 85.4005\n",
            "Epoch 86/100\n",
            "404/404 [==============================] - 0s 64us/sample - loss: 84.7977 - mse: 84.7977\n",
            "Epoch 87/100\n",
            "404/404 [==============================] - 0s 62us/sample - loss: 84.8317 - mse: 84.8317\n",
            "Epoch 88/100\n",
            "404/404 [==============================] - 0s 68us/sample - loss: 84.9394 - mse: 84.9393\n",
            "Epoch 89/100\n",
            "404/404 [==============================] - 0s 70us/sample - loss: 84.7306 - mse: 84.7306\n",
            "Epoch 90/100\n",
            "404/404 [==============================] - 0s 80us/sample - loss: 84.9391 - mse: 84.9391\n",
            "Epoch 91/100\n",
            "404/404 [==============================] - 0s 74us/sample - loss: 84.9080 - mse: 84.9081\n",
            "Epoch 92/100\n",
            "404/404 [==============================] - 0s 64us/sample - loss: 85.0185 - mse: 85.0185\n",
            "Epoch 93/100\n",
            "404/404 [==============================] - 0s 66us/sample - loss: 84.9098 - mse: 84.9098\n",
            "Epoch 94/100\n",
            "404/404 [==============================] - 0s 66us/sample - loss: 85.6860 - mse: 85.6860\n",
            "Epoch 95/100\n",
            "404/404 [==============================] - 0s 64us/sample - loss: 85.3479 - mse: 85.3479\n",
            "Epoch 96/100\n",
            "404/404 [==============================] - 0s 63us/sample - loss: 85.3073 - mse: 85.3074\n",
            "Epoch 97/100\n",
            "404/404 [==============================] - 0s 72us/sample - loss: 84.7585 - mse: 84.7585\n",
            "Epoch 98/100\n",
            "404/404 [==============================] - 0s 70us/sample - loss: 85.3281 - mse: 85.3281\n",
            "Epoch 99/100\n",
            "404/404 [==============================] - 0s 66us/sample - loss: 85.3406 - mse: 85.3406\n",
            "Epoch 100/100\n",
            "404/404 [==============================] - 0s 69us/sample - loss: 85.8429 - mse: 85.8429\n"
          ],
          "name": "stdout"
        },
        {
          "output_type": "execute_result",
          "data": {
            "text/plain": [
              "<tensorflow.python.keras.callbacks.History at 0x7f000052d128>"
            ]
          },
          "metadata": {
            "tags": []
          },
          "execution_count": 9
        }
      ]
    },
    {
      "cell_type": "code",
      "metadata": {
        "id": "AmulavFtdTGT",
        "colab_type": "code",
        "outputId": "2205c85c-d96d-4df4-9799-fc1de8a6d826",
        "colab": {
          "base_uri": "https://localhost:8080/",
          "height": 71
        }
      },
      "source": [
        "results = model.evaluate(X_test, y_test)\n",
        "print('loss: ', results[0])\n",
        "print('mse: ', results[1])"
      ],
      "execution_count": 0,
      "outputs": [
        {
          "output_type": "stream",
          "text": [
            "102/102 [==============================] - 0s 738us/sample - loss: 84.1224 - mse: 84.1225\n",
            "loss:  84.12244819192325\n",
            "mse:  84.12245\n"
          ],
          "name": "stdout"
        }
      ]
    },
    {
      "cell_type": "code",
      "metadata": {
        "id": "yKmaYX9BdfOb",
        "colab_type": "code",
        "outputId": "38f33b55-b24f-45f6-a549-c6173cd915e6",
        "colab": {
          "base_uri": "https://localhost:8080/",
          "height": 251
        }
      },
      "source": [
        "print(X_train)"
      ],
      "execution_count": 0,
      "outputs": [
        {
          "output_type": "stream",
          "text": [
            "[[1.23247e+00 0.00000e+00 8.14000e+00 ... 2.10000e+01 3.96900e+02\n",
            "  1.87200e+01]\n",
            " [2.17700e-02 8.25000e+01 2.03000e+00 ... 1.47000e+01 3.95380e+02\n",
            "  3.11000e+00]\n",
            " [4.89822e+00 0.00000e+00 1.81000e+01 ... 2.02000e+01 3.75520e+02\n",
            "  3.26000e+00]\n",
            " ...\n",
            " [3.46600e-02 3.50000e+01 6.06000e+00 ... 1.69000e+01 3.62250e+02\n",
            "  7.83000e+00]\n",
            " [2.14918e+00 0.00000e+00 1.95800e+01 ... 1.47000e+01 2.61950e+02\n",
            "  1.57900e+01]\n",
            " [1.43900e-02 6.00000e+01 2.93000e+00 ... 1.56000e+01 3.76700e+02\n",
            "  4.38000e+00]]\n"
          ],
          "name": "stdout"
        }
      ]
    },
    {
      "cell_type": "code",
      "metadata": {
        "id": "eKlYUCdafUz6",
        "colab_type": "code",
        "outputId": "5987492f-6865-42a0-908b-477e434b5603",
        "colab": {
          "base_uri": "https://localhost:8080/",
          "height": 539
        }
      },
      "source": [
        "print(y_train)"
      ],
      "execution_count": 0,
      "outputs": [
        {
          "output_type": "stream",
          "text": [
            "[15.2 42.3 50.  21.1 17.7 18.5 11.3 15.6 15.6 14.4 12.1 17.9 23.1 19.9\n",
            " 15.7  8.8 50.  22.5 24.1 27.5 10.9 30.8 32.9 24.  18.5 13.3 22.9 34.7\n",
            " 16.6 17.5 22.3 16.1 14.9 23.1 34.9 25.  13.9 13.1 20.4 20.  15.2 24.7\n",
            " 22.2 16.7 12.7 15.6 18.4 21.  30.1 15.1 18.7  9.6 31.5 24.8 19.1 22.\n",
            " 14.5 11.  32.  29.4 20.3 24.4 14.6 19.5 14.1 14.3 15.6 10.5  6.3 19.3\n",
            " 19.3 13.4 36.4 17.8 13.5 16.5  8.3 14.3 16.  13.4 28.6 43.5 20.2 22.\n",
            " 23.  20.7 12.5 48.5 14.6 13.4 23.7 50.  21.7 39.8 38.7 22.2 34.9 22.5\n",
            " 31.1 28.7 46.  41.7 21.  26.6 15.  24.4 13.3 21.2 11.7 21.7 19.4 50.\n",
            " 22.8 19.7 24.7 36.2 14.2 18.9 18.3 20.6 24.6 18.2  8.7 44.  10.4 13.2\n",
            " 21.2 37.  30.7 22.9 20.  19.3 31.7 32.  23.1 18.8 10.9 50.  19.6  5.\n",
            " 14.4 19.8 13.8 19.6 23.9 24.5 25.  19.9 17.2 24.6 13.5 26.6 21.4 11.9\n",
            " 22.6 19.6  8.5 23.7 23.1 22.4 20.5 23.6 18.4 35.2 23.1 27.9 20.6 23.7\n",
            " 28.  13.6 27.1 23.6 20.6 18.2 21.7 17.1  8.4 25.3 13.8 22.2 18.4 20.7\n",
            " 31.6 30.5 20.3  8.8 19.2 19.4 23.1 23.  14.8 48.8 22.6 33.4 21.1 13.6\n",
            " 32.2 13.1 23.4 18.9 23.9 11.8 23.3 22.8 19.6 16.7 13.4 22.2 20.4 21.8\n",
            " 26.4 14.9 24.1 23.8 12.3 29.1 21.  19.5 23.3 23.8 17.8 11.5 21.7 19.9\n",
            " 25.  33.4 28.5 21.4 24.3 27.5 33.1 16.2 23.3 48.3 22.9 22.8 13.1 12.7\n",
            " 22.6 15.  15.3 10.5 24.  18.5 21.7 19.5 33.2 23.2  5.  19.1 12.7 22.3\n",
            " 10.2 13.9 16.3 17.  20.1 29.9 17.2 37.3 45.4 17.8 23.2 29.  22.  18.\n",
            " 17.4 34.6 20.1 25.  15.6 24.8 28.2 21.2 21.4 23.8 31.  26.2 17.4 37.9\n",
            " 17.5 20.   8.3 23.9  8.4 13.8  7.2 11.7 17.1 21.6 50.  16.1 20.4 20.6\n",
            " 21.4 20.6 36.5  8.5 24.8 10.8 21.9 17.3 18.9 36.2 14.9 18.2 33.3 21.8\n",
            " 19.7 31.6 24.8 19.4 22.8  7.5 44.8 16.8 18.7 50.  50.  19.5 20.1 50.\n",
            " 17.2 20.8 19.3 41.3 20.4 20.5 13.8 16.5 23.9 20.6 31.5 23.3 16.8 14.\n",
            " 33.8 36.1 12.8 18.3 18.7 19.1 29.  30.1 50.  50.  22.  11.9 37.6 50.\n",
            " 22.7 20.8 23.5 27.9 50.  19.3 23.9 22.6 15.2 21.7 19.2 43.8 20.3 33.2\n",
            " 19.9 22.5 32.7 22.  17.1 19.  15.  16.1 25.1 23.7 28.7 37.2 22.6 16.4\n",
            " 25.  29.8 22.1 17.4 18.1 30.3 17.5 24.7 12.6 26.5 28.7 13.3 10.4 24.4\n",
            " 23.  20.  17.8  7.  11.8 24.4 13.8 19.4 25.2 19.4 19.4 29.1]\n"
          ],
          "name": "stdout"
        }
      ]
    },
    {
      "cell_type": "code",
      "metadata": {
        "id": "0OUvxuBQfWrG",
        "colab_type": "code",
        "colab": {}
      },
      "source": [
        ""
      ],
      "execution_count": 0,
      "outputs": []
    }
  ]
}